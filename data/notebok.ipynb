{
 "cells": [
  {
   "cell_type": "code",
   "execution_count": 2,
   "metadata": {},
   "outputs": [],
   "source": [
    "import pymysql"
   ]
  },
  {
   "cell_type": "code",
   "execution_count": 3,
   "metadata": {},
   "outputs": [],
   "source": [
    "%load_ext sql"
   ]
  },
  {
   "cell_type": "code",
   "execution_count": 14,
   "metadata": {},
   "outputs": [],
   "source": [
    "%sql sqlite:///airbnb.db\n"
   ]
  },
  {
   "cell_type": "code",
   "execution_count": 15,
   "metadata": {},
   "outputs": [
    {
     "name": "stdout",
     "output_type": "stream",
     "text": [
      "   sqlite:///airbnb-europe-prices.db\n",
      " * sqlite:///airbnb.db\n",
      "Done.\n"
     ]
    },
    {
     "data": {
      "text/plain": [
       "[]"
      ]
     },
     "execution_count": 15,
     "metadata": {},
     "output_type": "execute_result"
    }
   ],
   "source": [
    "%%sql\n",
    "CREATE TABLE CITIES (\n",
    "    city_id INT PRIMARY KEY,\n",
    "    room_type VARCHAR(255),\n",
    "    room_share VARCHAR(255),\n",
    "    room_price DECIMAL(10, 2),\n",
    "    person_capacity INT,\n",
    "    host_is_superhost BOOLEAN,\n",
    "    multi BOOLEAN,\n",
    "    biz BOOLEAN,\n",
    "    cleanliness_rating DECIMAL(4, 2),\n",
    "    guest_satisfaction DECIMAL(4, 2),\n",
    "    bedrooms INT,\n",
    "    dist DECIMAL(10, 2),\n",
    "    metro_dist DECIMAL(10, 2),\n",
    "    attr_index DECIMAL(6, 2),\n",
    "    attr_index_norm DECIMAL(6, 2),\n",
    "    rest_index DECIMAL(6, 2),\n",
    "    rest_index_norm DECIMAL(6, 2),\n",
    "    Ing DECIMAL(6, 2),\n",
    "    Iat DECIMAL(6, 2),\n",
    "    city_name VARCHAR(255),\n",
    "    day_of_the_week VARCHAR(255)\n",
    ");\n"
   ]
  },
  {
   "cell_type": "code",
   "execution_count": 16,
   "metadata": {},
   "outputs": [
    {
     "name": "stdout",
     "output_type": "stream",
     "text": [
      "   sqlite:///airbnb-europe-prices.db\n",
      " * sqlite:///airbnb.db\n",
      "Done.\n"
     ]
    },
    {
     "data": {
      "text/html": [
       "<table>\n",
       "    <thead>\n",
       "        <tr>\n",
       "            <th>city_id</th>\n",
       "            <th>room_type</th>\n",
       "            <th>room_share</th>\n",
       "            <th>room_price</th>\n",
       "            <th>person_capacity</th>\n",
       "            <th>host_is_superhost</th>\n",
       "            <th>multi</th>\n",
       "            <th>biz</th>\n",
       "            <th>cleanliness_rating</th>\n",
       "            <th>guest_satisfaction</th>\n",
       "            <th>bedrooms</th>\n",
       "            <th>dist</th>\n",
       "            <th>metro_dist</th>\n",
       "            <th>attr_index</th>\n",
       "            <th>attr_index_norm</th>\n",
       "            <th>rest_index</th>\n",
       "            <th>rest_index_norm</th>\n",
       "            <th>Ing</th>\n",
       "            <th>Iat</th>\n",
       "            <th>city_name</th>\n",
       "            <th>day_of_the_week</th>\n",
       "        </tr>\n",
       "    </thead>\n",
       "    <tbody>\n",
       "    </tbody>\n",
       "</table>"
      ],
      "text/plain": [
       "[]"
      ]
     },
     "execution_count": 16,
     "metadata": {},
     "output_type": "execute_result"
    }
   ],
   "source": [
    "%%sql\n",
    "SELECT * FROM CITIES"
   ]
  },
  {
   "cell_type": "code",
   "execution_count": 17,
   "metadata": {},
   "outputs": [
    {
     "name": "stdout",
     "output_type": "stream",
     "text": [
      "   sqlite:///airbnb-europe-prices.db\n",
      " * sqlite:///airbnb.db\n",
      "Done.\n"
     ]
    },
    {
     "data": {
      "text/plain": [
       "[]"
      ]
     },
     "execution_count": 17,
     "metadata": {},
     "output_type": "execute_result"
    }
   ],
   "source": [
    "%%sql\n",
    "ALTER TABLE CITIES\n",
    "ADD realSum DECIMAL(10, 2);\n"
   ]
  },
  {
   "cell_type": "code",
   "execution_count": 18,
   "metadata": {},
   "outputs": [
    {
     "name": "stdout",
     "output_type": "stream",
     "text": [
      "   sqlite:///airbnb-europe-prices.db\n",
      " * sqlite:///airbnb.db\n",
      "Done.\n"
     ]
    },
    {
     "data": {
      "text/html": [
       "<table>\n",
       "    <thead>\n",
       "        <tr>\n",
       "            <th>city_id</th>\n",
       "            <th>room_type</th>\n",
       "            <th>room_share</th>\n",
       "            <th>room_price</th>\n",
       "            <th>person_capacity</th>\n",
       "            <th>host_is_superhost</th>\n",
       "            <th>multi</th>\n",
       "            <th>biz</th>\n",
       "            <th>cleanliness_rating</th>\n",
       "            <th>guest_satisfaction</th>\n",
       "            <th>bedrooms</th>\n",
       "            <th>dist</th>\n",
       "            <th>metro_dist</th>\n",
       "            <th>attr_index</th>\n",
       "            <th>attr_index_norm</th>\n",
       "            <th>rest_index</th>\n",
       "            <th>rest_index_norm</th>\n",
       "            <th>Ing</th>\n",
       "            <th>Iat</th>\n",
       "            <th>city_name</th>\n",
       "            <th>day_of_the_week</th>\n",
       "            <th>realSum</th>\n",
       "        </tr>\n",
       "    </thead>\n",
       "    <tbody>\n",
       "    </tbody>\n",
       "</table>"
      ],
      "text/plain": [
       "[]"
      ]
     },
     "execution_count": 18,
     "metadata": {},
     "output_type": "execute_result"
    }
   ],
   "source": [
    "%%sql\n",
    "SELECT * FROM CITIES"
   ]
  },
  {
   "cell_type": "code",
   "execution_count": 22,
   "metadata": {},
   "outputs": [
    {
     "name": "stdout",
     "output_type": "stream",
     "text": [
      "   sqlite:///airbnb-europe-prices.db\n",
      " * sqlite:///airbnb.db\n",
      "1 rows affected.\n"
     ]
    },
    {
     "data": {
      "text/plain": [
       "[]"
      ]
     },
     "execution_count": 22,
     "metadata": {},
     "output_type": "execute_result"
    }
   ],
   "source": [
    "%%sql\n",
    "INSERT INTO CITIES (room_type, room_share, room_price, person_capacity, host_is_superhost, multi, biz, cleanliness_rating, guest_satisfaction, bedrooms, dist, metro_dist, attr_index, attr_index_norm, rest_index, rest_index_norm, Ing, Iat, city_name, day_of_the_week, realSum)\n",
    "VALUES ('private room', 0, 'TRUE', 2, 'FALSE', 0, 1, 9, 88, 1, 4.7633, 0.852117, 110.906, 125.871971, 136.9822, 11.941560, 4.84639, 52.34137, 'amsterdam', 'weeekends', 319.6400);\n"
   ]
  },
  {
   "cell_type": "code",
   "execution_count": 24,
   "metadata": {},
   "outputs": [
    {
     "name": "stdout",
     "output_type": "stream",
     "text": [
      "   sqlite:///airbnb-europe-prices.db\n",
      " * sqlite:///airbnb.db\n",
      "Done.\n"
     ]
    },
    {
     "data": {
      "text/html": [
       "<table>\n",
       "    <thead>\n",
       "        <tr>\n",
       "            <th>city_id</th>\n",
       "            <th>room_type</th>\n",
       "            <th>room_share</th>\n",
       "            <th>room_price</th>\n",
       "            <th>person_capacity</th>\n",
       "            <th>host_is_superhost</th>\n",
       "            <th>multi</th>\n",
       "            <th>biz</th>\n",
       "            <th>cleanliness_rating</th>\n",
       "            <th>guest_satisfaction</th>\n",
       "            <th>bedrooms</th>\n",
       "            <th>dist</th>\n",
       "            <th>metro_dist</th>\n",
       "            <th>attr_index</th>\n",
       "            <th>attr_index_norm</th>\n",
       "            <th>rest_index</th>\n",
       "            <th>rest_index_norm</th>\n",
       "            <th>Ing</th>\n",
       "            <th>Iat</th>\n",
       "            <th>city_name</th>\n",
       "            <th>day_of_the_week</th>\n",
       "            <th>realSum</th>\n",
       "        </tr>\n",
       "    </thead>\n",
       "    <tbody>\n",
       "        <tr>\n",
       "            <td>None</td>\n",
       "            <td>private room</td>\n",
       "            <td>0</td>\n",
       "            <td>TRUE</td>\n",
       "            <td>2</td>\n",
       "            <td>FALSE</td>\n",
       "            <td>0</td>\n",
       "            <td>1</td>\n",
       "            <td>9</td>\n",
       "            <td>88</td>\n",
       "            <td>1</td>\n",
       "            <td>4.7633</td>\n",
       "            <td>0.852117</td>\n",
       "            <td>110.906</td>\n",
       "            <td>125.871971</td>\n",
       "            <td>136.9822</td>\n",
       "            <td>11.94156</td>\n",
       "            <td>4.84639</td>\n",
       "            <td>52.34137</td>\n",
       "            <td>amsterdam</td>\n",
       "            <td>weeekends</td>\n",
       "            <td>319.64</td>\n",
       "        </tr>\n",
       "    </tbody>\n",
       "</table>"
      ],
      "text/plain": [
       "[(None, 'private room', '0', 'TRUE', 2, 'FALSE', 0, 1, 9, 88, 1, 4.7633, 0.852117, 110.906, 125.871971, 136.9822, 11.94156, 4.84639, 52.34137, 'amsterdam', 'weeekends', 319.64)]"
      ]
     },
     "execution_count": 24,
     "metadata": {},
     "output_type": "execute_result"
    }
   ],
   "source": [
    "%%sql\n",
    "SELECT * FROM CITIES"
   ]
  },
  {
   "cell_type": "code",
   "execution_count": 25,
   "metadata": {},
   "outputs": [
    {
     "name": "stdout",
     "output_type": "stream",
     "text": [
      "   sqlite:///airbnb-europe-prices.db\n",
      " * sqlite:///airbnb.db\n",
      "Done.\n"
     ]
    },
    {
     "data": {
      "text/plain": [
       "[]"
      ]
     },
     "execution_count": 25,
     "metadata": {},
     "output_type": "execute_result"
    }
   ],
   "source": [
    "%%sql\n",
    "DROP TABLE CITIES;\n"
   ]
  },
  {
   "cell_type": "code",
   "execution_count": null,
   "metadata": {},
   "outputs": [],
   "source": []
  },
  {
   "cell_type": "code",
   "execution_count": 29,
   "metadata": {},
   "outputs": [
    {
     "name": "stdout",
     "output_type": "stream",
     "text": [
      "   sqlite:///airbnb-europe-prices.db\n",
      " * sqlite:///airbnb.db\n",
      "Done.\n"
     ]
    },
    {
     "data": {
      "text/plain": [
       "[]"
      ]
     },
     "execution_count": 29,
     "metadata": {},
     "output_type": "execute_result"
    }
   ],
   "source": [
    "%%sql\n",
    "CREATE TABLE AIRBNB_CITIES (\n",
    "    city_id INT PRIMARY KEY,\n",
    "    realSum DECIMAL(10,2),\n",
    "    room_type VARCHAR(255),\n",
    "    room_share VARCHAR(255),\n",
    "    room_private DECIMAL(10, 2),\n",
    "    person_capacity INT,\n",
    "    host_is_superhost BOOLEAN,\n",
    "    multi BOOLEAN,\n",
    "    biz BOOLEAN,\n",
    "    cleanliness_rating DECIMAL(4, 2),\n",
    "    guest_satisfaction DECIMAL(4, 2),\n",
    "    bedrooms INT,\n",
    "    dist DECIMAL(10, 2),\n",
    "    metro_dist DECIMAL(10, 2),\n",
    "    attr_index DECIMAL(6, 2),\n",
    "    attr_index_norm DECIMAL(6, 2),\n",
    "    rest_index DECIMAL(6, 2),\n",
    "    rest_index_norm DECIMAL(6, 2),\n",
    "    Ing DECIMAL(6, 2),\n",
    "    Iat DECIMAL(6, 2),\n",
    "    city_name VARCHAR(255),\n",
    "    day_of_the_week VARCHAR(255)\n",
    ");\n",
    "\n"
   ]
  },
  {
   "cell_type": "code",
   "execution_count": 31,
   "metadata": {},
   "outputs": [
    {
     "name": "stdout",
     "output_type": "stream",
     "text": [
      "   sqlite:///airbnb-europe-prices.db\n",
      " * sqlite:///airbnb.db\n",
      "Done.\n"
     ]
    },
    {
     "data": {
      "text/html": [
       "<table>\n",
       "    <thead>\n",
       "        <tr>\n",
       "            <th>city_id</th>\n",
       "            <th>realSum</th>\n",
       "            <th>room_type</th>\n",
       "            <th>room_share</th>\n",
       "            <th>room_private</th>\n",
       "            <th>person_capacity</th>\n",
       "            <th>host_is_superhost</th>\n",
       "            <th>multi</th>\n",
       "            <th>biz</th>\n",
       "            <th>cleanliness_rating</th>\n",
       "            <th>guest_satisfaction</th>\n",
       "            <th>bedrooms</th>\n",
       "            <th>dist</th>\n",
       "            <th>metro_dist</th>\n",
       "            <th>attr_index</th>\n",
       "            <th>attr_index_norm</th>\n",
       "            <th>rest_index</th>\n",
       "            <th>rest_index_norm</th>\n",
       "            <th>Ing</th>\n",
       "            <th>Iat</th>\n",
       "            <th>city_name</th>\n",
       "            <th>day_of_the_week</th>\n",
       "        </tr>\n",
       "    </thead>\n",
       "    <tbody>\n",
       "    </tbody>\n",
       "</table>"
      ],
      "text/plain": [
       "[]"
      ]
     },
     "execution_count": 31,
     "metadata": {},
     "output_type": "execute_result"
    }
   ],
   "source": [
    "%%sql\n",
    "SELECT * FROM AIRBNB_CITIES"
   ]
  },
  {
   "cell_type": "code",
   "execution_count": 36,
   "metadata": {},
   "outputs": [
    {
     "name": "stdout",
     "output_type": "stream",
     "text": [
      "   sqlite:///airbnb-europe-prices.db\n",
      " * sqlite:///airbnb.db\n",
      "1 rows affected.\n"
     ]
    },
    {
     "data": {
      "text/plain": [
       "[]"
      ]
     },
     "execution_count": 36,
     "metadata": {},
     "output_type": "execute_result"
    }
   ],
   "source": [
    "%%sql\n",
    "INSERT INTO AIRBNB_CITIES (city_id,realSum,room_type, room_share, room_private, person_capacity, host_is_superhost, multi, biz, cleanliness_rating, guest_satisfaction, bedrooms, dist, metro_dist, attr_index, attr_index_norm, rest_index, rest_index_norm, Ing, Iat, city_name, day_of_the_week)\n",
    "VALUES (0,319.6400,'private room', 0, 'TRUE', 2, 'FALSE', 0, 1, 9, 88, 1, 4.7633, 0.852117, 110.906, 125.871971, 136.9822, 11.941560, 4.84639, 52.34137, 'amsterdam', 'weeekends');\n"
   ]
  },
  {
   "cell_type": "code",
   "execution_count": 42,
   "metadata": {},
   "outputs": [
    {
     "name": "stdout",
     "output_type": "stream",
     "text": [
      "   sqlite:///airbnb-europe-prices.db\n",
      " * sqlite:///airbnb.db\n",
      "(sqlite3.OperationalError) cannot drop PRIMARY KEY column: \"city_id\"\n",
      "[SQL: ALTER TABLE AIRBNB_CITIES\n",
      "DROP COLUMN city_id;]\n",
      "(Background on this error at: https://sqlalche.me/e/20/e3q8)\n"
     ]
    }
   ],
   "source": [
    "%%sql\n",
    "ALTER TABLE AIRBNB_CITIES\n",
    "DROP COLUMN city_id;\n"
   ]
  },
  {
   "cell_type": "code",
   "execution_count": 37,
   "metadata": {},
   "outputs": [
    {
     "name": "stdout",
     "output_type": "stream",
     "text": [
      "   sqlite:///airbnb-europe-prices.db\n",
      " * sqlite:///airbnb.db\n",
      "Done.\n"
     ]
    },
    {
     "data": {
      "text/html": [
       "<table>\n",
       "    <thead>\n",
       "        <tr>\n",
       "            <th>city_id</th>\n",
       "            <th>realSum</th>\n",
       "            <th>room_type</th>\n",
       "            <th>room_share</th>\n",
       "            <th>room_private</th>\n",
       "            <th>person_capacity</th>\n",
       "            <th>host_is_superhost</th>\n",
       "            <th>multi</th>\n",
       "            <th>biz</th>\n",
       "            <th>cleanliness_rating</th>\n",
       "            <th>guest_satisfaction</th>\n",
       "            <th>bedrooms</th>\n",
       "            <th>dist</th>\n",
       "            <th>metro_dist</th>\n",
       "            <th>attr_index</th>\n",
       "            <th>attr_index_norm</th>\n",
       "            <th>rest_index</th>\n",
       "            <th>rest_index_norm</th>\n",
       "            <th>Ing</th>\n",
       "            <th>Iat</th>\n",
       "            <th>city_name</th>\n",
       "            <th>day_of_the_week</th>\n",
       "        </tr>\n",
       "    </thead>\n",
       "    <tbody>\n",
       "        <tr>\n",
       "            <td>0</td>\n",
       "            <td>319.64</td>\n",
       "            <td>private room</td>\n",
       "            <td>0</td>\n",
       "            <td>TRUE</td>\n",
       "            <td>2</td>\n",
       "            <td>FALSE</td>\n",
       "            <td>0</td>\n",
       "            <td>1</td>\n",
       "            <td>9</td>\n",
       "            <td>88</td>\n",
       "            <td>1</td>\n",
       "            <td>4.7633</td>\n",
       "            <td>0.852117</td>\n",
       "            <td>110.906</td>\n",
       "            <td>125.871971</td>\n",
       "            <td>136.9822</td>\n",
       "            <td>11.94156</td>\n",
       "            <td>4.84639</td>\n",
       "            <td>52.34137</td>\n",
       "            <td>amsterdam</td>\n",
       "            <td>weeekends</td>\n",
       "        </tr>\n",
       "    </tbody>\n",
       "</table>"
      ],
      "text/plain": [
       "[(0, 319.64, 'private room', '0', 'TRUE', 2, 'FALSE', 0, 1, 9, 88, 1, 4.7633, 0.852117, 110.906, 125.871971, 136.9822, 11.94156, 4.84639, 52.34137, 'amsterdam', 'weeekends')]"
      ]
     },
     "execution_count": 37,
     "metadata": {},
     "output_type": "execute_result"
    }
   ],
   "source": [
    "%%sql\n",
    "SELECT * FROM AIRBNB_CITIES"
   ]
  },
  {
   "cell_type": "code",
   "execution_count": 38,
   "metadata": {},
   "outputs": [
    {
     "name": "stdout",
     "output_type": "stream",
     "text": [
      "   sqlite:///airbnb-europe-prices.db\n",
      " * sqlite:///airbnb.db\n",
      "1 rows affected.\n"
     ]
    },
    {
     "data": {
      "text/plain": [
       "[]"
      ]
     },
     "execution_count": 38,
     "metadata": {},
     "output_type": "execute_result"
    }
   ],
   "source": [
    "%%sql\n",
    "DELETE FROM AIRBNB_CITIES\n",
    "WHERE city_id = 0\n",
    "  AND realSum = 319.6400\n",
    "  AND room_type = 'private room'\n",
    "  AND room_share = 0\n",
    "  AND room_private = 'TRUE'\n",
    "  AND person_capacity = 2\n",
    "  AND host_is_superhost = 'FALSE'\n",
    "  AND multi = 0\n",
    "  AND biz = 1\n",
    "  AND cleanliness_rating = 9\n",
    "  AND guest_satisfaction = 88\n",
    "  AND bedrooms = 1\n",
    "  AND dist = 4.7633\n",
    "  AND metro_dist = 0.852117\n",
    "  AND attr_index = 110.906\n",
    "  AND attr_index_norm = 125.871971\n",
    "  AND rest_index = 136.9822\n",
    "  AND rest_index_norm = 11.941560\n",
    "  AND Ing = 4.84639\n",
    "  AND Iat = 52.34137\n",
    "  AND city_name = 'amsterdam'\n",
    "  AND day_of_the_week = 'weeekends';\n"
   ]
  },
  {
   "cell_type": "code",
   "execution_count": 39,
   "metadata": {},
   "outputs": [
    {
     "name": "stdout",
     "output_type": "stream",
     "text": [
      "   sqlite:///airbnb-europe-prices.db\n",
      " * sqlite:///airbnb.db\n",
      "Done.\n"
     ]
    },
    {
     "data": {
      "text/html": [
       "<table>\n",
       "    <thead>\n",
       "        <tr>\n",
       "            <th>city_id</th>\n",
       "            <th>realSum</th>\n",
       "            <th>room_type</th>\n",
       "            <th>room_share</th>\n",
       "            <th>room_private</th>\n",
       "            <th>person_capacity</th>\n",
       "            <th>host_is_superhost</th>\n",
       "            <th>multi</th>\n",
       "            <th>biz</th>\n",
       "            <th>cleanliness_rating</th>\n",
       "            <th>guest_satisfaction</th>\n",
       "            <th>bedrooms</th>\n",
       "            <th>dist</th>\n",
       "            <th>metro_dist</th>\n",
       "            <th>attr_index</th>\n",
       "            <th>attr_index_norm</th>\n",
       "            <th>rest_index</th>\n",
       "            <th>rest_index_norm</th>\n",
       "            <th>Ing</th>\n",
       "            <th>Iat</th>\n",
       "            <th>city_name</th>\n",
       "            <th>day_of_the_week</th>\n",
       "        </tr>\n",
       "    </thead>\n",
       "    <tbody>\n",
       "    </tbody>\n",
       "</table>"
      ],
      "text/plain": [
       "[]"
      ]
     },
     "execution_count": 39,
     "metadata": {},
     "output_type": "execute_result"
    }
   ],
   "source": [
    "%%sql\n",
    "SELECT * FROM AIRBNB_CITIES"
   ]
  },
  {
   "cell_type": "code",
   "execution_count": 40,
   "metadata": {},
   "outputs": [
    {
     "name": "stdout",
     "output_type": "stream",
     "text": [
      "   sqlite:///airbnb-europe-prices.db\n",
      " * sqlite:///airbnb.db\n",
      "1 rows affected.\n"
     ]
    },
    {
     "data": {
      "text/plain": [
       "[]"
      ]
     },
     "execution_count": 40,
     "metadata": {},
     "output_type": "execute_result"
    }
   ],
   "source": [
    "%%sql\n",
    "INSERT INTO AIRBNB_CITIES (city_id, realSum, room_type, room_share, room_private, person_capacity, host_is_superhost, multi, biz, cleanliness_rating, guest_satisfaction, bedrooms, dist, metro_dist, attr_index, attr_index_norm, rest_index, rest_index_norm, Ing, Iat, city_name, day_of_the_week)\n",
    "VALUES (0, 319.6400, 'private room', 'FALSE', 'TRUE', 2, 'FALSE', 0, 1, 9, 88, 1, 4.7633, 0.852117, 110.906, 125.871971, 136.9822, 11.941560, 4.84639, 52.34137, 'amsterdam', 'weeekends');\n"
   ]
  },
  {
   "cell_type": "code",
   "execution_count": 41,
   "metadata": {},
   "outputs": [
    {
     "name": "stdout",
     "output_type": "stream",
     "text": [
      "   sqlite:///airbnb-europe-prices.db\n",
      " * sqlite:///airbnb.db\n",
      "(sqlite3.IntegrityError) UNIQUE constraint failed: AIRBNB_CITIES.city_id\n",
      "[SQL: INSERT INTO AIRBNB_CITIES (city_id, realSum, room_type, room_share, room_private, person_capacity, host_is_superhost, multi, biz, cleanliness_rating, guest_satisfaction, bedrooms, dist, metro_dist, attr_index, attr_index_norm, rest_index, rest_index_norm, Ing, Iat, city_name, day_of_the_week)\n",
      "VALUES (0, 347.9952, 'private room', 'FALSE', 'TRUE', 2, 'FALSE', 0, 1, 9, 87, 1, 5.748310, 3.651591, 75.27593, 3.985516, 95.3864, 8.315410, 4.9751, 52.36103, 'amsterdam', 'weeekends');]\n",
      "(Background on this error at: https://sqlalche.me/e/20/gkpj)\n"
     ]
    }
   ],
   "source": [
    "%%sql\n",
    "INSERT INTO AIRBNB_CITIES (city_id, realSum, room_type, room_share, room_private, person_capacity, host_is_superhost, multi, biz, cleanliness_rating, guest_satisfaction, bedrooms, dist, metro_dist, attr_index, attr_index_norm, rest_index, rest_index_norm, Ing, Iat, city_name, day_of_the_week)\n",
    "VALUES (0, 347.9952, 'private room', 'FALSE', 'TRUE', 2, 'FALSE', 0, 1, 9, 87, 1, 5.748310, 3.651591, 75.27593, 3.985516, 95.3864, 8.315410, 4.9751, 52.36103, 'amsterdam', 'weeekends');\n"
   ]
  },
  {
   "cell_type": "code",
   "execution_count": 43,
   "metadata": {},
   "outputs": [
    {
     "name": "stdout",
     "output_type": "stream",
     "text": [
      "   sqlite:///airbnb-europe-prices.db\n",
      " * sqlite:///airbnb.db\n",
      "Done.\n"
     ]
    },
    {
     "data": {
      "text/plain": [
       "[]"
      ]
     },
     "execution_count": 43,
     "metadata": {},
     "output_type": "execute_result"
    }
   ],
   "source": [
    "%%sql\n",
    "DROP TABLE AIRBNB_CITIES;\n"
   ]
  },
  {
   "cell_type": "code",
   "execution_count": 44,
   "metadata": {},
   "outputs": [
    {
     "name": "stdout",
     "output_type": "stream",
     "text": [
      "   sqlite:///airbnb-europe-prices.db\n",
      " * sqlite:///airbnb.db\n",
      "Done.\n"
     ]
    },
    {
     "data": {
      "text/plain": [
       "[]"
      ]
     },
     "execution_count": 44,
     "metadata": {},
     "output_type": "execute_result"
    }
   ],
   "source": [
    "%%sql\n",
    "CREATE TABLE CITIES_AIRBNB (\n",
    "    realSum DECIMAL(10,2),\n",
    "    room_type VARCHAR(255),\n",
    "    room_share VARCHAR(255),\n",
    "    room_private DECIMAL(10, 2),\n",
    "    person_capacity INT,\n",
    "    host_is_superhost BOOLEAN,\n",
    "    multi BOOLEAN,\n",
    "    biz BOOLEAN,\n",
    "    cleanliness_rating DECIMAL(4, 2),\n",
    "    guest_satisfaction DECIMAL(4, 2),\n",
    "    bedrooms INT,\n",
    "    dist DECIMAL(10, 2),\n",
    "    metro_dist DECIMAL(10, 2),\n",
    "    attr_index DECIMAL(6, 2),\n",
    "    attr_index_norm DECIMAL(6, 2),\n",
    "    rest_index DECIMAL(6, 2),\n",
    "    rest_index_norm DECIMAL(6, 2),\n",
    "    lng DECIMAL(6, 2),\n",
    "    lat DECIMAL(6, 2),\n",
    "    city_name VARCHAR(255),\n",
    "    day_of_the_week VARCHAR(255)\n",
    ");"
   ]
  },
  {
   "cell_type": "code",
   "execution_count": 45,
   "metadata": {},
   "outputs": [
    {
     "name": "stdout",
     "output_type": "stream",
     "text": [
      "   sqlite:///airbnb-europe-prices.db\n",
      " * sqlite:///airbnb.db\n",
      "Done.\n"
     ]
    },
    {
     "data": {
      "text/html": [
       "<table>\n",
       "    <thead>\n",
       "        <tr>\n",
       "            <th>realSum</th>\n",
       "            <th>room_type</th>\n",
       "            <th>room_share</th>\n",
       "            <th>room_private</th>\n",
       "            <th>person_capacity</th>\n",
       "            <th>host_is_superhost</th>\n",
       "            <th>multi</th>\n",
       "            <th>biz</th>\n",
       "            <th>cleanliness_rating</th>\n",
       "            <th>guest_satisfaction</th>\n",
       "            <th>bedrooms</th>\n",
       "            <th>dist</th>\n",
       "            <th>metro_dist</th>\n",
       "            <th>attr_index</th>\n",
       "            <th>attr_index_norm</th>\n",
       "            <th>rest_index</th>\n",
       "            <th>rest_index_norm</th>\n",
       "            <th>lng</th>\n",
       "            <th>lat</th>\n",
       "            <th>city_name</th>\n",
       "            <th>day_of_the_week</th>\n",
       "        </tr>\n",
       "    </thead>\n",
       "    <tbody>\n",
       "    </tbody>\n",
       "</table>"
      ],
      "text/plain": [
       "[]"
      ]
     },
     "execution_count": 45,
     "metadata": {},
     "output_type": "execute_result"
    }
   ],
   "source": [
    "%%sql\n",
    "SELECT * FROM CITIES_AIRBNB"
   ]
  },
  {
   "cell_type": "code",
   "execution_count": 48,
   "metadata": {},
   "outputs": [
    {
     "name": "stdout",
     "output_type": "stream",
     "text": [
      "   sqlite:///airbnb-europe-prices.db\n",
      " * sqlite:///airbnb.db\n",
      "1 rows affected.\n"
     ]
    },
    {
     "data": {
      "text/plain": [
       "[]"
      ]
     },
     "execution_count": 48,
     "metadata": {},
     "output_type": "execute_result"
    }
   ],
   "source": [
    "%%sql\n",
    "\n",
    "INSERT INTO CITIES_AIRBNB ( realSum, room_type, room_share, room_private, person_capacity, host_is_superhost, multi, biz, cleanliness_rating, guest_satisfaction, bedrooms, dist, metro_dist, attr_index, attr_index_norm, rest_index, rest_index_norm, lng, lat, city_name, day_of_the_week)\n",
    "VALUES (319.6400534,'Private room','FALSE','TRUE',2,'FALSE',0,1,9,88,1,4.763359741,0.852117397,110.9061233,5.871971404,136.9822078,11.9415603,4.84639,52.34137,'amsterdam','weekends')"
   ]
  },
  {
   "cell_type": "code",
   "execution_count": null,
   "metadata": {},
   "outputs": [],
   "source": [
    "%%sql\n",
    "\n",
    "INSERT INTO CITIES_AIRBNB ( realSum, room_type, room_share, room_private, person_capacity, host_is_superhost, multi, biz, cleanliness_rating, guest_satisfaction, bedrooms, dist, metro_dist, attr_index, attr_index_norm, rest_index, rest_index_norm, lng, lat, city_name, day_of_the_week)\n",
    "VALUES(347.9952195,Private room,FALSE,TRUE,2,FALSE,0,1,9,87,1,5.748310293,3.651591499,75.27593656,3.985516163,95.38646779,8.31541027,4.97512,52.36103,amsterdam,weekends'),\n",
    "(482.9751834,Private room,FALSE,TRUE,4,FALSE,0,1,9,90,2,0.384872086,0.43985163,493.2725175,26.11652118,875.1148175,76.28900523,4.89417,52.37663,amsterdam,weekends),\n",
    "(194.0336981,Private room,FALSE,TRUE,2,FALSE,1,0,10,93,1,5.022963798,2.539380003,78.69037927,4.166707868,98.25389587,6.846472824,4.90569,52.41772,amsterdam,weekdays),\n",
    "(344.245776,Private room,FALSE,TRUE,4,FALSE,0,0,8,85,1,0.488389289,0.239403923,631.1763783,33.42120862,837.2807567,58.34292774,4.90005,52.37432,amsterdam,weekdays),\n",
    "(264.1014224,Private room,FALSE,TRUE,2,FALSE,0,1,9,87,1,5.748311915,3.651621289,75.27587691,3.9859077,95.38695493,6.646700255,4.97512,52.36103,amsterdam,weekdays),\n",
    "(129.8244792,Entire home/apt,FALSE,FALSE,4,FALSE,0,0,10,100,2,2.813963501,0.881890002,55.34857178,2.086871151,78.77837697,5.915159963,23.766,37.983,athens,weekdays),\n",
    "(138.9637476,Entire home/apt,FALSE,FALSE,4,TRUE,1,0,10,96,1,0.40729292,0.304567868,240.3066539,9.060559418,407.1676962,30.57262852,23.73168,37.97776,athens,weekdays),\n",
    "(156.3049235,Entire home/apt,FALSE,FALSE,3,TRUE,0,1,10,98,1,1.237211131,0.288488057,199.5073658,7.522256718,395.9674026,29.73164232,23.722,37.979,athens,weekdays),\n",
    "(138.9637476,Entire home/apt,FALSE,FALSE,4,TRUE,1,0,10,96,1,0.40727768,0.304569679,240.3064964,9.054205318,407.1679576,6.080621638,23.73168,37.97776,athens,weekends),\n",
    "(91.62702411,Entire home/apt,FALSE,FALSE,4,TRUE,1,0,10,99,1,4.367463095,0.297473534,39.80299633,1.499686885,58.70652227,0.876719651,23.72712,38.01435,athens,weekends),\n",
    "(76.62925035,Private room,FALSE,TRUE,2,FALSE,0,0,10,100,1,2.194173759,0.38524748,78.73400136,2.96651911,113.3266842,1.692413844,23.73391,37.99529,athens,weekends),\n",
    "(474.3174995,Entire home/apt,FALSE,FALSE,4,FALSE,0,1,10,91,1,1.111996478,0.630490946,526.4694202,17.94292696,915.5870828,20.15488958,2.17556,41.39624,barcelona,weekday),\n",
    "(169.8978286,Private room,FALSE,TRUE,2,TRUE,1,0,10,88,1,1.751839016,0.124017172,320.1275255,10.91046239,794.2773503,17.48448901,2.14906,41.38714,barcelona,weekday),\n",
    "(161.984779,Private room,FALSE,TRUE,4,FALSE,0,1,9,88,1,1.670492897,0.080321976,344.073936,11.72659468,840.6736173,18.50581364,2.15357,41.37859,barcelona,weekday),\n",
    "(532.0362138,Entire home/apt,FALSE,FALSE,4,FALSE,0,1,10,91,1,1.111998031,0.630503955,526.4714724,20.32767195,915.5914548,20.11246809,2.17556,41.39624,barcelona,weekend),\n",
    "(169.8978286,Private room,FALSE,TRUE,2,TRUE,1,0,10,88,1,1.751830926,0.124012733,320.1282638,12.36052221,794.2796598,17.44765553,2.14906,41.38714,barcelona,weekend),\n",
    "(196.8952917,Private room,FALSE,TRUE,2,FALSE,1,0,9,90,1,0.621730811,0.297515605,503.3540251,19.43508059,1242.434221,27.29210556,2.165,41.383,barcelona,weekend),\n",
    "()\n",
    "\n",
    "\n",
    "\n",
    "\n",
    "\n",
    "\n",
    "\n"
   ]
  }
 ],
 "metadata": {
  "kernelspec": {
   "display_name": "Python 3",
   "language": "python",
   "name": "python3"
  },
  "language_info": {
   "codemirror_mode": {
    "name": "ipython",
    "version": 3
   },
   "file_extension": ".py",
   "mimetype": "text/x-python",
   "name": "python",
   "nbconvert_exporter": "python",
   "pygments_lexer": "ipython3",
   "version": "3.11.6"
  }
 },
 "nbformat": 4,
 "nbformat_minor": 2
}
